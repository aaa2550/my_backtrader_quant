{
 "cells": [
  {
   "cell_type": "code",
   "execution_count": 5,
   "id": "bed84d3d",
   "metadata": {},
   "outputs": [
    {
     "name": "stdout",
     "output_type": "stream",
     "text": [
      "Looking in indexes: http://mirrors.aliyun.com/pypi/simple/\n",
      "Collecting baostock\n",
      "  Downloading http://mirrors.aliyun.com/pypi/packages/43/e2/b367c78db42bafcf752442b7d582ba2a724286313d9f126c5fee06064fb2/baostock-0.8.8-py3-none-any.whl (55 kB)\n",
      "\u001b[2K     \u001b[90m━━━━━━━━━━━━━━━━━━━━━━━━━━━━━━━━━━━━━━━\u001b[0m \u001b[32m55.2/55.2 kB\u001b[0m \u001b[31m231.8 kB/s\u001b[0m eta \u001b[36m0:00:00\u001b[0ma \u001b[36m0:00:01\u001b[0m\n",
      "\u001b[?25hRequirement already satisfied: pandas>=0.18.0 in /Users/yanghailong/anaconda3/lib/python3.10/site-packages (from baostock) (1.5.3)\n",
      "Requirement already satisfied: python-dateutil>=2.8.1 in /Users/yanghailong/anaconda3/lib/python3.10/site-packages (from pandas>=0.18.0->baostock) (2.8.2)\n",
      "Requirement already satisfied: pytz>=2020.1 in /Users/yanghailong/anaconda3/lib/python3.10/site-packages (from pandas>=0.18.0->baostock) (2022.7)\n",
      "Requirement already satisfied: numpy>=1.21.0 in /Users/yanghailong/anaconda3/lib/python3.10/site-packages (from pandas>=0.18.0->baostock) (1.23.5)\n",
      "Requirement already satisfied: six>=1.5 in /Users/yanghailong/anaconda3/lib/python3.10/site-packages (from python-dateutil>=2.8.1->pandas>=0.18.0->baostock) (1.16.0)\n",
      "Installing collected packages: baostock\n",
      "Successfully installed baostock-0.8.8\n"
     ]
    }
   ],
   "source": [
    "!pip3 install baostock -i http://mirrors.aliyun.com/pypi/simple/ --trusted-host=mirrors.aliyun.com"
   ]
  },
  {
   "cell_type": "code",
   "execution_count": 2,
   "id": "22c9928e-d433-4264-89f8-b7aeb8f3abf3",
   "metadata": {},
   "outputs": [],
   "source": [
    "import akshare as ak\n",
    "import pandas as pd\n",
    "import numpy as np\n",
    "from tqdm.notebook import tqdm\n",
    "import time\n",
    "import traceback\n",
    "import concurrent.futures as cf\n",
    "from datetime import datetime,timedelta"
   ]
  },
  {
   "cell_type": "markdown",
   "id": "4490668e-4950-4a69-b09a-4033b78812d7",
   "metadata": {},
   "source": [
    "# 下载股票"
   ]
  },
  {
   "cell_type": "code",
   "execution_count": null,
   "id": "ffbfdf40-5724-4fac-aace-9d6e17246634",
   "metadata": {},
   "outputs": [],
   "source": [
    "stocks = ak.stock_zh_a_spot()\n",
    "stocks = stocks.loc[:, ['代码', '名称']]\n",
    "stocks.to_csv(\"~/stock/stocks.csv\")"
   ]
  },
  {
   "cell_type": "code",
   "execution_count": null,
   "id": "03498cf0-940e-47ef-b89f-945600ff8f4e",
   "metadata": {},
   "outputs": [],
   "source": [
    "def get_a_daily_stock(stock_code):\n",
    "    try:\n",
    "        # 从 1990 年至今获取股票历史数据\n",
    "        stock_data = ak.stock_zh_a_daily(symbol=stock_code, start_date='19900101', adjust='qfq')\n",
    "        # 将数据写入 csv 文件\n",
    "        stock_data.to_csv(f'~/stock/a_daily/{stock_code}.csv', index=False, float_format='%.15f')\n",
    "    except Exception as e:\n",
    "        print(traceback.format_exc())\n",
    "        \n",
    "def get_a_daily_stocks():\n",
    "\n",
    "    # 读取包含股票代码的 csv 文件\n",
    "    stock_codes = pd.read_csv('~/stock/stocks.csv')['代码']\n",
    "    \n",
    "    # 创建线程池\n",
    "    with cf.ThreadPoolExecutor(max_workers=10) as executor:\n",
    "        \n",
    "        # 提交任务\n",
    "        futures = [executor.submit(get_a_daily_stock, stock_code) for stock_code in stock_codes]\n",
    "        # 等待所有任务完成\n",
    "        cf.wait(futures)\n",
    "        \n",
    "get_a_daily_stocks()"
   ]
  },
  {
   "cell_type": "markdown",
   "id": "d58f596c-3cf7-41ba-9852-86275aedbbad",
   "metadata": {
    "tags": []
   },
   "source": [
    "# 下载历史日线数据，按股票代码保存(带换手率等数据)"
   ]
  },
  {
   "cell_type": "code",
   "execution_count": 4,
   "id": "b003e96f-5af6-448d-918f-4dff7caf5338",
   "metadata": {},
   "outputs": [],
   "source": [
    "#period='daily'; choice of {'daily', 'weekly', 'monthly'}\n",
    "def get_a_daily_stock(stock_code):\n",
    "    try:\n",
    "        # 从 1990 年至今获取股票历史数据\n",
    "        stock_data = ak.stock_zh_a_hist(symbol=stock_code, period='daily',start_date='19900101', adjust='qfq')\n",
    "        # 将数据写入 csv 文件\n",
    "        stock_data.to_csv(f'~/stock/a_daily/{stock_code}.csv', index=False, float_format='%.15f')\n",
    "    except Exception as e:\n",
    "        print(traceback.format_exc())\n",
    "        \n",
    "def get_a_daily_stocks():\n",
    "\n",
    "    # 读取包含股票代码的 csv 文件\n",
    "    stock_codes = pd.read_csv('~/stock/stocks.csv')['代码']\n",
    "    \n",
    "    # 创建线程池\n",
    "    with cf.ThreadPoolExecutor(max_workers=50) as executor:\n",
    "        \n",
    "        # 提交任务\n",
    "        futures = [executor.submit(get_a_daily_stock, stock_code[-6:]) for stock_code in stock_codes]\n",
    "        # 等待所有任务完成\n",
    "        cf.wait(futures)\n",
    "        \n",
    "get_a_daily_stocks()"
   ]
  },
  {
   "cell_type": "markdown",
   "id": "73119431-3422-4aa3-a7a8-9d19b1848965",
   "metadata": {
    "tags": []
   },
   "source": [
    "# 证券类别统计:证券类别｜数量｜成交金额｜总市值｜流通市值"
   ]
  },
  {
   "cell_type": "code",
   "execution_count": null,
   "id": "513369d8-b58a-4ff8-bf15-066c81aa6410",
   "metadata": {},
   "outputs": [],
   "source": [
    "def stock_szse_summary(arr, date_str):\n",
    "    df = ak.stock_szse_summary(date=date_str)\n",
    "    # 指定要选取的字符串列表\n",
    "\n",
    "    temp_arr = np.full((len(required_categories), 4), None)\n",
    "    for index,categorie in enumerate(required_categories):\n",
    "        selected_rows = np.where(df['证券类别'] == categorie)[0]\n",
    "        selected_df = df.iloc[selected_rows, 1:]\n",
    "        if selected_df.empty is not True:\n",
    "            temp_arr[index,:] = selected_df\n",
    "    arr.append(np.append(np.array([date_str]), temp_arr.ravel()))\n",
    "    print(date_str)\n",
    "\n",
    "start_date = datetime.datetime(2008, 1, 3)  # 开始日期\n",
    "end_date = datetime.datetime.now()  # 结束日期\n",
    "\n",
    "required_categories = ['股票','主板A股','主板B股','中小板','基金','ETF','LOF','封闭式基金','分级基金','权证','股票权证','债券','国债','公司债','企业债','债券回购','可转换债']\n",
    "arr = []\n",
    "futures = []\n",
    "with cf.ThreadPoolExecutor(max_workers=50) as executor:\n",
    "    while start_date <= end_date:\n",
    "        date_str = start_date.strftime('%Y%m%d')  # 将日期格式化为字符串\n",
    "        futures.append(executor.submit(stock_szse_summary, arr, date_str))\n",
    "        start_date += datetime.timedelta(days=1)  # 加上一天\n",
    "    cf.wait(futures)\n",
    "df = pd.DataFrame(arr)\n",
    "df.columns = ['日期','股票数量','股票成交金额','股票总市值','股票流通市值','主板A股数量','主板A股成交金额','主板A股总市值','主板A股流通市值','主板B股数量','主板B股成交金额','主板B股总市值','主板B股流通市值','中小板数量','中小板成交金额','中小板总市值','中小板流通市值','基金数量','基金成交金额','基金总市值','基金流通市值','ETF数量','ETF成交金额','ETF总市值','ETF流通市值','LOF数量','LOF成交金额','LOF总市值','LOF流通市值','封闭式基金数量','封闭式基金成交金额','封闭式基金总市值','封闭式基金流通市值','分级基金数量','分级基金成交金额','分级基金总市值','分级基金流通市值','权证数量','权证成交金额','权证总市值','权证流通市值','股票权证数量','股票权证成交金额','股票权证总市值','股票权证流通市值','债券数量','债券成交金额','债券总市值','债券流通市值','国债数量','国债成交金额','国债总市值','国债流通市值','公司债数量','公司债成交金额','公司债总市值','公司债流通市值','企业债数量','企业债成交金额','企业债总市值','企业债流通市值','债券回购数量','债券回购成交金额','债券回购总市值','债券回购流通市值','可转换债券数量','可转换债券成交金额','可转换债券总市值','可转换债券流通市值']\n",
    "df.to_csv(f'~/stock/szse_summary.csv', index=False, float_format='%.15f')"
   ]
  },
  {
   "cell_type": "markdown",
   "id": "a0f3b392-8dc7-4da8-a54b-2b272f31eb8b",
   "metadata": {},
   "source": [
    "# 所有指数当天数据（有指数的编码）"
   ]
  },
  {
   "cell_type": "code",
   "execution_count": null,
   "id": "8522451b-e950-4bec-bf6b-0f9d28d8e75d",
   "metadata": {},
   "outputs": [],
   "source": [
    "ak.stock_zh_index_spot().to_csv(f'~/stock/stock_zh_index_spot.csv', index=False, float_format='%.15f')"
   ]
  },
  {
   "cell_type": "markdown",
   "id": "d029294b-ec6d-4f44-8d04-967fd9662f1e",
   "metadata": {},
   "source": [
    "# 指数历史数据"
   ]
  },
  {
   "cell_type": "code",
   "execution_count": null,
   "id": "adf7ca13-3358-4df1-aff6-f1ab0c775f49",
   "metadata": {},
   "outputs": [],
   "source": [
    "def stock_zh_index_daily(code):\n",
    "    stock_zh_index_daily_df = ak.stock_zh_index_daily(symbol=code)\n",
    "    stock_zh_index_daily_df.to_csv(f'~/stock/index_daily/{code}.csv', index=False, float_format='%.15f')\n",
    "    \n",
    "codes = pd.read_csv('~/stock/stock_zh_index_spot.csv')['代码']\n",
    "futures = []\n",
    "with cf.ThreadPoolExecutor(max_workers=50) as executor:\n",
    "    for code in codes:\n",
    "        futures.append(executor.submit(stock_zh_index_daily, code))\n",
    "    cf.wait(futures)\n",
    "    "
   ]
  },
  {
   "cell_type": "markdown",
   "id": "ea179375-6497-4c7d-b891-e009e84b3442",
   "metadata": {},
   "source": [
    "# 机构调研"
   ]
  },
  {
   "cell_type": "code",
   "execution_count": null,
   "id": "d34a5fed-aeb8-489c-a16d-11e103650cab",
   "metadata": {},
   "outputs": [],
   "source": [
    "stock_jgdy_tj_em_df = ak.stock_jgdy_tj_em(date=\"20210128\")\n",
    "stock_jgdy_tj_em_df.to_csv(f'~/stock/jgdy.csv', index=False, float_format='%.15f')\n",
    "print(stock_jgdy_tj_em_df)"
   ]
  },
  {
   "cell_type": "markdown",
   "id": "34f746ee-fab9-416d-9405-6b6e33b3b370",
   "metadata": {},
   "source": [
    "# 机构调研详情（带调研机构和基金经理）"
   ]
  },
  {
   "cell_type": "code",
   "execution_count": null,
   "id": "ce52fa4c-474d-41f1-83ff-623877e2a648",
   "metadata": {},
   "outputs": [],
   "source": [
    "stock_jgdy_detail_em_df = ak.stock_jgdy_detail_em(date=\"20080101\")\n",
    "stock_jgdy_detail_em_df.to_csv(f'~/stock/jgdy_detail.csv', index=False, float_format='%.15f')\n",
    "print(stock_jgdy_detail_em_df)"
   ]
  },
  {
   "cell_type": "markdown",
   "id": "e1e4a45f-0986-4a1f-b2df-12e83799c334",
   "metadata": {},
   "source": [
    "# 公司主营介绍"
   ]
  },
  {
   "cell_type": "code",
   "execution_count": null,
   "id": "ac8fb9ba-9a32-4e9b-b407-95bbbff6985d",
   "metadata": {},
   "outputs": [],
   "source": [
    "def stock_zygc_em(code, arr):\n",
    "    stock_zygc_em_df = ak.stock_zygc_em(symbol=code).T.values\n",
    "    return stock_zygc_em_df.transpose()\n",
    "\n",
    "# 读取包含股票代码的 csv 文件\n",
    "stock_codes = pd.read_csv('~/stock/stocks.csv')['代码']\n",
    "\n",
    "arr = []\n",
    "# 创建线程池\n",
    "with cf.ThreadPoolExecutor(max_workers=50) as executor:\n",
    "    # 提交任务\n",
    "    futures = [executor.submit(stock_zygc_em, stock_code, arr) for stock_code in stock_codes]\n",
    "    # 等待所有任务完成\n",
    "    res_list = [f.result() for f in cf.as_completed(futures)]\n",
    "    arr = np.vstack(res_list)\n",
    "df = pd.DataFrame(arr)\n",
    "df.columns = ['股票代码','报告日期','分类类型','主营构成','主营收入','收入比例','主营成本','成本比例','主营利润','利润比例','毛利率']\n",
    "df.to_csv(f'~/stock/zygc_dfcf.csv', index=False, float_format='%.15f')\n"
   ]
  },
  {
   "cell_type": "markdown",
   "id": "fcea1981-e70b-4f67-a702-fd047217bd6a",
   "metadata": {},
   "source": [
    "# 上市公司股权质押"
   ]
  },
  {
   "cell_type": "code",
   "execution_count": null,
   "id": "c39209f5-7a5e-4073-882b-eff9a8f270ff",
   "metadata": {},
   "outputs": [],
   "source": [
    "df = ak.stock_gpzy_pledge_ratio_detail_em()\n",
    "df.to_csv(f'~/stock/gpzy_pledge_ratio_detail.csv', index=False, float_format='%.15f')"
   ]
  },
  {
   "cell_type": "markdown",
   "id": "f130935a-a0b9-4c3e-b442-5ebd64a9cb50",
   "metadata": {
    "tags": []
   },
   "source": [
    "# 北向净流入[\"沪股通\", \"深股通\", \"北上\"]"
   ]
  },
  {
   "cell_type": "code",
   "execution_count": null,
   "id": "6970ff9e-a2bb-49c3-9ff6-303640700f7e",
   "metadata": {},
   "outputs": [],
   "source": [
    "df = ak.stock_hsgt_north_net_flow_in_em(symbol=\"沪股通\")\n",
    "df.to_csv(f'~/stock/stock_hsgt_north_net_flow_in_lgt.csv', index=False, float_format='%.15f')\n",
    "\n",
    "df = ak.stock_hsgt_north_net_flow_in_em(symbol=\"深股通\")\n",
    "df.to_csv(f'~/stock/stock_hsgt_north_net_flow_in_sgt.csv', index=False, float_format='%.15f')\n",
    "\n",
    "df = ak.stock_hsgt_north_net_flow_in_em(symbol=\"北上\")\n",
    "df.to_csv(f'~/stock/stock_hsgt_north_net_flow_in_bs.csv', index=False, float_format='%.15f')"
   ]
  },
  {
   "cell_type": "markdown",
   "id": "a5efc506-1e7b-437e-b989-bd4818c64912",
   "metadata": {},
   "source": [
    "# 北向累计净流入[\"沪股通\", \"深股通\", \"北上\"]"
   ]
  },
  {
   "cell_type": "code",
   "execution_count": null,
   "id": "e025247a-0400-4025-bbae-e7b23413a539",
   "metadata": {},
   "outputs": [],
   "source": [
    "df = ak.stock_hsgt_north_acc_flow_in_em(symbol=\"沪股通\")\n",
    "df.to_csv(f'~/stock/stock_hsgt_north_acc_flow_in_hgt.csv', index=False, float_format='%.15f')\n",
    "\n",
    "df = ak.stock_hsgt_north_acc_flow_in_em(symbol=\"深股通\")\n",
    "df.to_csv(f'~/stock/stock_hsgt_north_acc_flow_in_sgt.csv', index=False, float_format='%.15f')\n",
    "\n",
    "df = ak.stock_hsgt_north_acc_flow_in_em(symbol=\"北上\")\n",
    "df.to_csv(f'~/stock/stock_hsgt_north_acc_flow_in_bs.csv', index=False, float_format='%.15f')"
   ]
  },
  {
   "cell_type": "markdown",
   "id": "af1f8d52-f797-458a-aa07-d727e13e3fa2",
   "metadata": {},
   "source": [
    "# 每日净流入个股统计 【\"北向持股\", \"沪股通持股\", \"深股通持股\", \"南向持股\"】"
   ]
  },
  {
   "cell_type": "code",
   "execution_count": null,
   "id": "5a194403-f704-4e0c-85af-d3359bc72d06",
   "metadata": {},
   "outputs": [],
   "source": [
    "df = ak.stock_hsgt_stock_statistics_em(symbol=\"北向持股\", start_date=\"20000101\", end_date=\"20230527\")\n",
    "df.to_csv(f'~/stock/stock_hsgt_stock_statistics_bxzj.csv', index=False, float_format='%.15f')\n",
    "\n",
    "df = ak.stock_hsgt_stock_statistics_em(symbol=\"沪股通持股\", start_date=\"20000101\", end_date=\"20230527\")\n",
    "df.to_csv(f'~/stock/stock_hsgt_stock_statistics_hgtcgj.csv', index=False, float_format='%.15f')\n",
    "\n",
    "df = ak.stock_hsgt_stock_statistics_em(symbol=\"深股通持股\", start_date=\"20000101\", end_date=\"20230527\")\n",
    "df.to_csv(f'~/stock/stock_hsgt_stock_statistics_sgtcgj.csv', index=False, float_format='%.15f')\n"
   ]
  },
  {
   "cell_type": "markdown",
   "id": "ed735aad-4378-43f6-89ef-f4690d9d963a",
   "metadata": {},
   "source": [
    "# 沪深港通历史数据 【 \"沪股通\", \"深股通\", \"港股通沪\", \"港股通深\"】"
   ]
  },
  {
   "cell_type": "code",
   "execution_count": null,
   "id": "5d32144c-3eef-4e39-99a6-411b9bf747aa",
   "metadata": {},
   "outputs": [],
   "source": [
    "df = ak.stock_hsgt_hist_em(symbol=\"沪股通\")\n",
    "df.to_csv(f'~/stock/stock_hsgt_hist_hgt.csv', index=False, float_format='%.15f')\n",
    "\n",
    "df = ak.stock_hsgt_hist_em(symbol=\"深股通\")\n",
    "df.to_csv(f'~/stock/stock_hsgt_hist_sgt.csv', index=False, float_format='%.15f')"
   ]
  },
  {
   "cell_type": "markdown",
   "id": "9d837ae6-84be-4173-b7fa-15b5e876ac6c",
   "metadata": {},
   "source": [
    "# 沪深港通持股-个股"
   ]
  },
  {
   "cell_type": "code",
   "execution_count": null,
   "id": "018ab803-6f72-406d-93b7-4f8e9718cb8a",
   "metadata": {},
   "outputs": [],
   "source": [
    "def get_a_daily_stock(stock_code):\n",
    "    df = ak.stock_hsgt_individual_em(stock=stock_code[2:])\n",
    "    # 将数据写入 csv 文件\n",
    "    df.to_csv(f'~/stock/a_sgt_daily/{stock_code}.csv', index=False, float_format='%.15f')\n",
    "        \n",
    "def get_a_daily_stocks():\n",
    "\n",
    "    # 读取包含股票代码的 csv 文件\n",
    "    stock_codes = pd.read_csv('~/stock/stocks.csv')['代码']\n",
    "    \n",
    "    # 创建线程池\n",
    "    with cf.ThreadPoolExecutor(max_workers=10) as executor:\n",
    "        \n",
    "        # 提交任务\n",
    "        futures = [executor.submit(get_a_daily_stock, stock_code) for stock_code in stock_codes]\n",
    "        # 等待所有任务完成\n",
    "        cf.wait(futures)\n",
    "        \n",
    "get_a_daily_stocks()"
   ]
  },
  {
   "cell_type": "markdown",
   "id": "65ee1c22-f47f-4ebc-98a9-f73dc31cb517",
   "metadata": {},
   "source": [
    "# 沪深港通持股-个股详情"
   ]
  },
  {
   "cell_type": "code",
   "execution_count": null,
   "id": "42195c37-a29a-4a5c-b4d8-6b8e40193d13",
   "metadata": {},
   "outputs": [],
   "source": [
    "def get_daily(stock_code):\n",
    "    df = ak.stock_hsgt_individual_detail_em(symbol=stock_code[2:], start_date=\"20100830\", end_date=\"20230528\")\n",
    "    # 将数据写入 csv 文件\n",
    "    df.to_csv(f'~/stock/a_hsgt_daily/{stock_code}.csv', index=False, float_format='%.15f')\n",
    "        \n",
    "def get_all():\n",
    "\n",
    "    # 读取包含股票代码的 csv 文件\n",
    "    stock_codes = pd.read_csv('~/stock/stocks.csv')['代码']\n",
    "    \n",
    "    # 创建线程池\n",
    "    with cf.ThreadPoolExecutor(max_workers=10) as executor:\n",
    "        \n",
    "        # 提交任务\n",
    "        futures = [executor.submit(get_daily, stock_code) for stock_code in stock_codes]\n",
    "        # 等待所有任务完成\n",
    "        cf.wait(futures)\n",
    "        \n",
    "get_all()"
   ]
  },
  {
   "cell_type": "markdown",
   "id": "d16a1f0d-fd78-4077-842b-f21c0a340a86",
   "metadata": {},
   "source": [
    "# 业绩报表"
   ]
  },
  {
   "cell_type": "code",
   "execution_count": null,
   "id": "be443ab9-39e1-4be2-b047-7aaa3b62561f",
   "metadata": {},
   "outputs": [],
   "source": [
    "def get_daily(date_file_name):\n",
    "    df = ak.stock_yjbb_em(date_file_name)\n",
    "    # 将数据写入 csv 文件\n",
    "    df.to_csv(f'~/stock/a_yjbb/{date_file_name}.csv', index=False, float_format='%.15f')\n",
    "\n",
    "date_str = [\"0331\", \"0630\", \"0930\", \"1231\"] \n",
    "for year in range(2020, 2023):\n",
    "    for md in date_str:\n",
    "        get_daily(f'{year}{md}')"
   ]
  },
  {
   "cell_type": "code",
   "execution_count": null,
   "id": "e92f8832-b442-4190-b246-7a2178b3e9bd",
   "metadata": {},
   "outputs": [],
   "source": []
  },
  {
   "cell_type": "markdown",
   "id": "c6556281-aa8d-49d6-ac73-0a008ea66c71",
   "metadata": {},
   "source": [
    "# 业绩快报"
   ]
  },
  {
   "cell_type": "code",
   "execution_count": null,
   "id": "c9e487c8-abb9-4e18-aeaf-8310f09a6bc1",
   "metadata": {},
   "outputs": [],
   "source": [
    "def get_daily(date_file_name):\n",
    "    df = ak.stock_yjkb_em(date_file_name)\n",
    "    # 将数据写入 csv 文件\n",
    "    df.to_csv(f'~/stock/a_yjkb/{date_file_name}.csv', index=False, float_format='%.15f')\n",
    "\n",
    "date_str = [\"0331\", \"0630\", \"0930\", \"1231\"] \n",
    "for year in range(2020, 2023):\n",
    "    for md in date_str:\n",
    "        get_daily(f'{year}{md}')"
   ]
  },
  {
   "cell_type": "markdown",
   "id": "e0196cb9-55ae-4f81-a033-9301e453d043",
   "metadata": {},
   "source": [
    "# 业绩预告"
   ]
  },
  {
   "cell_type": "code",
   "execution_count": null,
   "id": "157678f7-c65e-4ced-8201-338e98dc84d5",
   "metadata": {},
   "outputs": [],
   "source": [
    "def get_daily(date_file_name):\n",
    "    df = ak.stock_yjyg_em(date_file_name)\n",
    "    # 将数据写入 csv 文件\n",
    "    df.to_csv(f'~/stock/a_yjyg/{date_file_name}.csv', index=False, float_format='%.15f')\n",
    "\n",
    "date_str = [\"0331\", \"0630\", \"0930\", \"1231\"] \n",
    "for year in range(2016, 2023):\n",
    "    for md in date_str:\n",
    "        get_daily(f'{year}{md}')"
   ]
  },
  {
   "cell_type": "markdown",
   "id": "45146177-4407-4747-bb5e-81044753561e",
   "metadata": {},
   "source": [
    "# 龙虎榜"
   ]
  },
  {
   "cell_type": "code",
   "execution_count": null,
   "id": "812ceec1-a16e-48a7-9b35-2817563afafb",
   "metadata": {},
   "outputs": [],
   "source": [
    "df = ak.stock_lhb_detail_em(start_date=\"20000101\", end_date=\"20230417\")\n",
    "df.to_csv(f'~/stock/a_lhb.csv', index=False, float_format='%.15f')"
   ]
  },
  {
   "cell_type": "markdown",
   "id": "bbf1565e-e939-47db-a720-5c91b9f99589",
   "metadata": {},
   "source": [
    "# 股票热度-问财"
   ]
  },
  {
   "cell_type": "code",
   "execution_count": null,
   "id": "582263e7-81be-407b-a0af-708ca80c525c",
   "metadata": {},
   "outputs": [],
   "source": [
    "def get_detail(date_str):\n",
    "    df = ak.stock_zt_pool_em(date=date_str)\n",
    "    df.to_csv(f'~/stock/a_zt_pool/{date_str}.csv', index=False, float_format='%.15f')\n",
    "\n",
    "start_date = datetime(2000, 1, 1)  # 开始日期\n",
    "end_date = datetime.now()  # 结束日期\n",
    "while start_date <= end_date:\n",
    "    get_detail(start_date.strftime('%Y%m%d'))\n",
    "    start_date += timedelta(days=1)  # 加上一天\n"
   ]
  },
  {
   "cell_type": "markdown",
   "id": "77c0aaf4-e29b-4e2f-b1fc-f85e74bedfb6",
   "metadata": {},
   "source": [
    "# 历史分笔（最近两年）"
   ]
  },
  {
   "cell_type": "code",
   "execution_count": null,
   "id": "0533ab38-a7b8-44d1-90d4-f4908b0430f7",
   "metadata": {},
   "outputs": [],
   "source": [
    "def get_daily(stock_code):\n",
    "    try:\n",
    "        # 从 1990 年至今获取股票历史数据\n",
    "        stock_data = ak.stock_zh_a_daily(symbol=stock_code, start_date='19900101', adjust='hfq')\n",
    "        # 将数据写入 csv 文件\n",
    "        stock_data.to_csv(f'~/stock/a_daily/{stock_code}.csv', index=False, float_format='%.15f')\n",
    "    except Exception as e:\n",
    "        print(traceback.format_exc())\n",
    "        \n",
    "def get_all():\n",
    "\n",
    "    # 读取包含股票代码的 csv 文件\n",
    "    stock_codes = pd.read_csv('~/stock/stocks.csv')['代码']\n",
    "    \n",
    "    # 创建线程池\n",
    "    with cf.ThreadPoolExecutor(max_workers=10) as executor:\n",
    "        \n",
    "        # 提交任务\n",
    "        futures = [executor.submit(get_daily, stock_code) for stock_code in stock_codes]\n",
    "        # 等待所有任务完成\n",
    "        cf.wait(futures)\n",
    "        \n",
    "get_all()"
   ]
  }
 ],
 "metadata": {
  "kernelspec": {
   "display_name": "Python 3 (ipykernel)",
   "language": "python",
   "name": "python3"
  },
  "language_info": {
   "codemirror_mode": {
    "name": "ipython",
    "version": 3
   },
   "file_extension": ".py",
   "mimetype": "text/x-python",
   "name": "python",
   "nbconvert_exporter": "python",
   "pygments_lexer": "ipython3",
   "version": "3.10.9"
  }
 },
 "nbformat": 4,
 "nbformat_minor": 5
}
